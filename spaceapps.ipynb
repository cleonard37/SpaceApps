{
 "cells": [
  {
   "cell_type": "markdown",
   "metadata": {},
   "source": [
    "Data Science Work For Space Apps Challenge \n",
    "\n",
    "Goal: Develop a machine learning (ML) algorithm or neural network pipeline for the DSCOVR spacecraft's FC instrument to track and follow the changes in the peak solar wind speed (to provide early warning signs of a Carrington-like event)\n",
    "\n",
    "Event Details: https://2022.spaceappschallenge.org/challenges/2022-challenges/carrington-event/details"
   ]
  },
  {
   "cell_type": "code",
   "execution_count": 190,
   "metadata": {},
   "outputs": [],
   "source": [
    "import os\n",
    "library_directory = '/home/colin/hackathons/spaceapps/cdf38_1-dist/lib'\n",
    "os.environ[\"CDF_LIB\"] = library_directory\n",
    "from spacepy import pycdf"
   ]
  },
  {
   "cell_type": "markdown",
   "metadata": {},
   "source": [
    "Step 1: Investigate Data\n",
    "\n",
    "Provided Data:\n",
    "- DSCOVER Magnetic Field Data Sets\n",
    "- Wind Mission's Magnetic Field Data\n",
    "- Wind Mission's Ion Parameters\n",
    "\n",
    "Ground Truth:\n",
    "- Wind's Magnetic Field Data\n",
    "- Wind's ION Parameter Data\n",
    "\n",
    "Considerations:\n",
    "- Time period should be between a few months and a year (long enough to have complete representation of plasma conditions, short enough that instrument degredation does not become too noticable)\n",
    "- Data discrepencies between Wind and DSCOVR should be reconciled; remove any major discrepencies\n",
    "\n",
    "Locations: \n",
    "- (wind magnetic) https://cdaweb.gsfc.nasa.gov/pub/data/wind/mfi/mfi_h2/2022/\n",
    "- (wind ion) https://cdaweb.gsfc.nasa.gov/pub/data/wind/swe/swe_h1/2022/ \n",
    "- (dscover magnetic) https://cdaweb.gsfc.nasa.gov/pub/data/dscovr/h0/mag/2022/"
   ]
  },
  {
   "cell_type": "markdown",
   "metadata": {},
   "source": [
    "Download Wind (magnetic field) Data:"
   ]
  },
  {
   "cell_type": "code",
   "execution_count": 191,
   "metadata": {},
   "outputs": [],
   "source": [
    "import wget\n",
    "url = 'https://cdaweb.gsfc.nasa.gov/pub/data/wind/mfi/mfi_h2/2022/wi_h2_mfi_20220101_v04.cdf'\n",
    "filename = wget.download(url)\t\n",
    "# TO DO:\n",
    "#   add names of all files to download to array \n",
    "#   download all files"
   ]
  },
  {
   "cell_type": "code",
   "execution_count": 192,
   "metadata": {},
   "outputs": [
    {
     "name": "stdout",
     "output_type": "stream",
     "text": [
      "These are the variables within this file:\n",
      "\n",
      "AMPL1_I: CDF_REAL4 [1440, 3, 8]\n",
      "AMPL1_O: CDF_REAL4 [1440, 3, 8]\n",
      "BF1: CDF_REAL4 [925803, 1]\n",
      "BGSE: CDF_REAL4 [925803, 3]\n",
      "BGSM: CDF_REAL4 [925803, 3]\n",
      "Epoch: CDF_EPOCH [925803, 1]\n",
      "Epoch1: CDF_EPOCH [1440, 1]\n",
      "FLAG1_I: CDF_INT4 [1440, 1]\n",
      "FLAG1_O: CDF_INT4 [1440, 1]\n",
      "MAG_MODE: CDF_INT4 [925803, 1]\n",
      "NUM1_PTS_I: CDF_INT4 [1440, 1]\n",
      "NUM1_PTS_O: CDF_INT4 [1440, 1]\n",
      "ORTH1_I: CDF_REAL8 [1440, 3, 3]\n",
      "ORTH1_O: CDF_REAL8 [1440, 3, 3]\n",
      "PAYLD1_I: CDF_REAL8 [1440, 3, 3]\n",
      "PAYLD1_O: CDF_REAL8 [1440, 3, 3]\n",
      "RANGE: CDF_INT4 [925803, 1]\n",
      "SENS1_I: CDF_REAL4 [1440, 3, 8]\n",
      "SENS1_O: CDF_REAL4 [1440, 3, 8]\n",
      "SPC_MODE: CDF_INT4 [925803, 1]\n",
      "Time1_PB5: CDF_INT4 [1440, 3]\n",
      "Time_PB5: CDF_INT4 [925803, 3]\n",
      "ZERO1_I: CDF_REAL4 [1440, 3, 8]\n",
      "ZERO1_O: CDF_REAL4 [1440, 3, 8]\n",
      "cartesian: CDF_CHAR*11 [3] NRV\n",
      "format_time: CDF_CHAR*2 [3] NRV\n",
      "label_bgse: CDF_CHAR*8 [3] NRV\n",
      "label_bgsm: CDF_CHAR*8 [3] NRV\n",
      "label_time: CDF_CHAR*27 [3] NRV\n",
      "unit_time: CDF_CHAR*4 [3] NRV\n"
     ]
    }
   ],
   "source": [
    "cdf_wind = pycdf.CDF('wi_h2_mfi_20220101_v04.cdf')\n",
    "print('These are the variables within this file:\\n')\n",
    "print(cdf_wind)"
   ]
  },
  {
   "cell_type": "code",
   "execution_count": 193,
   "metadata": {},
   "outputs": [
    {
     "name": "stdout",
     "output_type": "stream",
     "text": [
      "This is the global metadata record of the file:\n",
      "\n",
      "ADID_ref: NSSD0141 [CDF_CHAR]\n",
      "Attitude_file: wi_at_pre_20211231_v02.cdf [CDF_CHAR]\n",
      "               wi_at_pre_20220101_v02.cdf [CDF_CHAR]\n",
      "               wi_at_pre_20220102_v02.cdf [CDF_CHAR]\n",
      "Data_type: H2>High-resolution Definitive Data [CDF_CHAR]\n",
      "Data_version: 04 [CDF_CHAR]\n",
      "Descriptor: MFI>Magnetic Fields Investigation [CDF_CHAR]\n",
      "Discipline: Space Physics>Heliospheric Science [CDF_CHAR]\n",
      "HKlvl_0_file: wi_lz_scr_20211231_v01.dat [CDF_CHAR]\n",
      "              wi_lz_scr_20220101_v01.dat [CDF_CHAR]\n",
      "              wi_lz_scr_20220102_v01.dat [CDF_CHAR]\n",
      "Instrument_type: Magnetic Fields (space) [CDF_CHAR]\n",
      "Level_0_file: wi_lz_mfi_20211231_v01.dat [CDF_CHAR]\n",
      "              wi_lz_mfi_20220101_v01.dat [CDF_CHAR]\n",
      "              wi_lz_mfi_20220102_v01.dat [CDF_CHAR]\n",
      "Logical_file_id: wi_h2_mfi_00000000_v00 [CDF_CHAR]\n",
      "Logical_source: wi_h2_mfi [CDF_CHAR]\n",
      "Logical_source_description: Wind Magnetic Fields Investigation, High-resolution Definitive Data [CDF_CHAR]\n",
      "MODS:  10/01/2011 Initial release                     [CDF_CHAR]\n",
      "Mission_group: Wind [CDF_CHAR]\n",
      "Orbit_file: wi_or_pre_20211231_v09.cdf [CDF_CHAR]\n",
      "            wi_or_pre_20220101_v09.cdf [CDF_CHAR]\n",
      "            wi_or_pre_20220102_v08.cdf [CDF_CHAR]\n",
      "PI_affiliation: UMBC, NASA/GSFC [CDF_CHAR]\n",
      "PI_name: A. Koval [CDF_CHAR]\n",
      "Processing_date: Tue Jan 18 23:41:40 2022 UTC [CDF_CHAR]\n",
      "Project: ISTP>International Solar-Terrestrial Physics [CDF_CHAR]\n",
      "Software_version: V05.00 [CDF_CHAR]\n",
      "Source_name: WIND>Wind Interplanetary Plasma Laboratory [CDF_CHAR]\n",
      "TEXT: WIND MFI high-resolution data file. Time resolution varies with instrument mode. [CDF_CHAR]\n",
      "      Modes 0 & 10, low rate: .184s, high rate: .092s                                  [CDF_CHAR]\n",
      "      Modes 1 & 11, low rate: Prim .092s Sec 1.84s, high rate: Prim .046s Sec .92s     [CDF_CHAR]\n",
      "      Modes 2 & 12, Same as Modes 1 & 11                                               [CDF_CHAR]\n",
      "      Calibration constants are 1 minute averages.                                     [CDF_CHAR]\n",
      "      WIND MFI Instrument turn on 11/12/1994                                           [CDF_CHAR]\n",
      "      Data versions:                                                                   [CDF_CHAR]\n",
      "      03 - Extrapolated Bz correction                                                  [CDF_CHAR]\n",
      "      04 - Final Bz correction                                                         [CDF_CHAR]\n",
      "      05 - Final attitude and Bz correction                                               [CDF_CHAR]\n",
      "      References:                                                                      [CDF_CHAR]\n",
      "      1. Lepping, R. P., et al., The WIND Magnetic Field Investigation, p. 207 in      [CDF_CHAR]\n",
      "      The Global Geospace Mission, ed. by C. T. Russell, Kluwer,1995                   [CDF_CHAR]\n",
      "      2. Panetta, P. (GSFC), GGS WIND MFI Operator's Manual, September 15, 1992.      [CDF_CHAR]\n",
      "      3. Computer Sciences Corporation, Data Format Control Document (DFCD) Between    [CDF_CHAR]\n",
      "      The International Solar-Terrestrial Physics (ISTP) Program Information           [CDF_CHAR]\n",
      "      Processing Division Ground Data Processing System and The ISTP Mission           [CDF_CHAR]\n",
      "      Investigators, CSC/TR-91/6014, 560-1DFD/0190, July 1992.                         [CDF_CHAR]\n",
      "      4. Behannon, K. W., International Solar Terrestrial Physics (ISTP) Program       [CDF_CHAR]\n",
      "      Investigator Data Analysis Requirements For WIND and GEOTAIL Spacecraft          [CDF_CHAR]\n",
      "      Magnetometer Experiment, September 1987.                                         [CDF_CHAR]\n",
      "      5. National Space Science Data Center, CDF User's Guide, Version 2.3.0,         [CDF_CHAR]\n",
      "      October 1, 1992.                                                                 [CDF_CHAR]\n",
      "      6. Mish, W. H., International Solar-Terrestrial Physics (ISTP) Key Parameter     [CDF_CHAR]\n",
      "      Generation Software (KPGS) Standards & Conventions, September 1992.              [CDF_CHAR]\n",
      "      7. Mish, W. H., IMP F and G Phase I Magnetic Field Analysis, April 1972          [CDF_CHAR]\n",
      "TEXT_supplement_1:   [CDF_CHAR]\n",
      "TITLE: WIND Magnetic Field Investigation (MFI) High-Resolution Production [CDF_CHAR]\n",
      "Web_sites: http://wind.nasa.gov [CDF_CHAR]\n",
      "def_FLAGS: 00 - Interpolated   Calibration Values                      [CDF_CHAR]\n",
      "           01 - Last available Calibration Values                      [CDF_CHAR]\n",
      "           02 - Daily Computed Calibration Values                      [CDF_CHAR]\n",
      "           03 - Daily Computed Calibration Values with Bz corrections  [CDF_CHAR]\n",
      "           04 - High-Resolution Calibration Values                     [CDF_CHAR]\n",
      "           05 - High-Resolution Calibration Values with Bz corrections [CDF_CHAR]\n",
      "def_MAG_MODE: 00 - Primary to Secondary Ratio  (1:1) Outboard prime w/ FFT & Snapshot [CDF_CHAR]\n",
      "              01 - Primary to Secondary Ratio (20:1) Outboard prime w/ FFT & Snapshot [CDF_CHAR]\n",
      "              02 - Primary to Secondary Ratio (20:1) Outboard prime w/ Snapshot only  [CDF_CHAR]\n",
      "              03 - Primary to Secondary Ratio  (1:1) Outboard prime Maneuver          [CDF_CHAR]\n",
      "              07 - Primary to Secondary Ratio  (1:1) Outboard prime used Inboard data [CDF_CHAR]\n",
      "              10 - Primary to Secondary Ratio  (1:1)  Inboard prime w/ FFT & Snapshot [CDF_CHAR]\n",
      "              11 - Primary to Secondary Ratio (20:1)  Inboard prime w/ FFT & Snapshot [CDF_CHAR]\n",
      "              12 - Primary to Secondary Ratio (20:1)  Inboard prime w/ Snapshot only  [CDF_CHAR]\n",
      "              13 - Primary to Secondary Ratio  (1:1)  Inboard prime Maneuver          [CDF_CHAR]\n",
      "def_SPC_MODE: 01 - Science     mode (92 sec) [CDF_CHAR]\n",
      "              03 - Maneuver    mode (92 sec) [CDF_CHAR]\n",
      "              04 - Contingency mode (92 sec) [CDF_CHAR]\n",
      "              05 - Science     mode (46 sec) [CDF_CHAR]\n",
      "              07 - Maneuver    mode (46 sec) [CDF_CHAR]\n",
      "              08 - Contingency mode (46 sec) [CDF_CHAR]\n"
     ]
    }
   ],
   "source": [
    "print('This is the global metadata record of the file:\\n')\n",
    "print(cdf_wind.attrs)"
   ]
  },
  {
   "cell_type": "code",
   "execution_count": 194,
   "metadata": {},
   "outputs": [
    {
     "name": "stdout",
     "output_type": "stream",
     "text": [
      "[[datetime.datetime(2022, 1, 1, 0, 0, 0, 78000)]\n",
      " [datetime.datetime(2022, 1, 1, 0, 0, 0, 170000)]\n",
      " [datetime.datetime(2022, 1, 1, 0, 0, 0, 262000)]\n",
      " ...\n",
      " [datetime.datetime(2022, 1, 1, 23, 59, 59, 754000)]\n",
      " [datetime.datetime(2022, 1, 1, 23, 59, 59, 846000)]\n",
      " [datetime.datetime(2022, 1, 1, 23, 59, 59, 938000)]]\n"
     ]
    }
   ],
   "source": [
    "import matplotlib.pyplot as plt\n",
    "import numpy as np\n",
    "import pandas as pd\n",
    "\n",
    "x = cdf_wind['Epoch'][...]\n",
    "print(x)\n",
    "y = cdf_wind['BGSE'][...]\n",
    "y_df = pd.DataFrame(y)\n",
    "y_df_filtered = y_df[(y_df > -2147483648)] \n",
    "\n",
    "fig, ax = plt.subplots(figsize=(7,2), constrained_layout=True)\n",
    "ax.plot(x, y_df_filtered)\n",
    "ax.set_xlabel('ms')\n",
    "ax.set_ylabel('nT')\n",
    "plt.title('Wind Data')\n",
    "fig.set_facecolor('lightsteelblue')"
   ]
  },
  {
   "cell_type": "markdown",
   "metadata": {},
   "source": [
    "Download DSCOVR Data"
   ]
  },
  {
   "cell_type": "code",
   "execution_count": null,
   "metadata": {},
   "outputs": [],
   "source": [
    "url = 'https://cdaweb.gsfc.nasa.gov/pub/data/dscovr/h0/mag/2022/dscovr_h0_mag_20220101_v01.cdf'\n",
    "filename = wget.download(url)\t"
   ]
  },
  {
   "cell_type": "code",
   "execution_count": null,
   "metadata": {},
   "outputs": [
    {
     "name": "stdout",
     "output_type": "stream",
     "text": [
      "These are the variables within this file:\n",
      "\n",
      "B1F1: CDF_REAL4 [86400]\n",
      "B1GSE: CDF_REAL4 [86400, 3]\n",
      "B1RTN: CDF_REAL4 [86400, 3]\n",
      "B1SDF1: CDF_REAL4 [86400]\n",
      "B1SDGSE: CDF_REAL4 [86400, 3]\n",
      "B1SDRTN: CDF_REAL4 [86400, 3]\n",
      "Epoch1: CDF_EPOCH [86400]\n",
      "FLAG1: CDF_INT2 [86400]\n",
      "NUM1_PTS: CDF_INT4 [86400]\n",
      "RANGE1: CDF_INT2 [86400]\n",
      "SENS: CDF_REAL4 [3, 8] NRV\n",
      "Time1_PB5: CDF_INT4 [86400, 3]\n",
      "ZERO: CDF_REAL4 [3, 8] NRV\n",
      "format_time: CDF_CHAR*2 [3] NRV\n",
      "label_bgse: CDF_CHAR*8 [3] NRV\n",
      "label_brtn: CDF_CHAR*8 [3] NRV\n",
      "label_bsdgse: CDF_CHAR*14 [3] NRV\n",
      "label_bsdrtn: CDF_CHAR*14 [3] NRV\n",
      "label_time: CDF_CHAR*27 [3] NRV\n",
      "unit_time: CDF_CHAR*4 [3] NRV\n"
     ]
    }
   ],
   "source": [
    "cdf_dscovr = pycdf.CDF('dscovr_h0_mag_20220101_v01.cdf')\n",
    "print('These are the variables within this file:\\n')\n",
    "print(cdf_dscovr)"
   ]
  },
  {
   "cell_type": "code",
   "execution_count": null,
   "metadata": {},
   "outputs": [
    {
     "name": "stdout",
     "output_type": "stream",
     "text": [
      "CATDESC: Magnetic field magnitude (1 sec) [CDF_CHAR]\n",
      "DEPEND_0: Epoch1 [CDF_CHAR]\n",
      "DISPLAY_TYPE: time_series [CDF_CHAR]\n",
      "FIELDNAM: Magnetic field magnitude (1 sec) [CDF_CHAR]\n",
      "FILLVAL: -1e+31 [CDF_FLOAT]\n",
      "FORMAT: E13.6 [CDF_CHAR]\n",
      "LABLAXIS: B [CDF_CHAR]\n",
      "MONOTON: FALSE [CDF_CHAR]\n",
      "SCALEMAX: 10.33799 [CDF_FLOAT]\n",
      "SCALEMIN: 6.200893 [CDF_FLOAT]\n",
      "SCALETYP: LINEAR [CDF_CHAR]\n",
      "TIME_RES: 1 sec [CDF_CHAR]\n",
      "UNITS: nT [CDF_CHAR]\n",
      "VALIDMAX: 65534.0 [CDF_FLOAT]\n",
      "VALIDMIN: 0.0 [CDF_FLOAT]\n",
      "VAR_NOTES: Average of the magnitude (F1) [CDF_CHAR]\n",
      "VAR_TYPE: data [CDF_CHAR]\n",
      "\n",
      "\n",
      "CATDESC: Magnetic field vector in GSE cartesian coordinates (1 sec) [CDF_CHAR]\n",
      "DEPEND_0: Epoch1 [CDF_CHAR]\n",
      "DISPLAY_TYPE: time_series [CDF_CHAR]\n",
      "FIELDNAM: Magnetic field vector in GSE cartesian coordinates (1 sec) [CDF_CHAR]\n",
      "FILLVAL: -1e+31 [CDF_FLOAT]\n",
      "FORMAT: E13.6 [CDF_CHAR]\n",
      "LABL_PTR_1: label_bgse [CDF_CHAR]\n",
      "MONOTON: FALSE [CDF_CHAR]\n",
      "SCALEMAX: [3.208676 9.184736 9.146015] [CDF_FLOAT]\n",
      "SCALEMIN: [-9.118552  -6.4383945 -9.388936 ] [CDF_FLOAT]\n",
      "SCALETYP: LINEAR [CDF_CHAR]\n",
      "TIME_RES: 1 sec [CDF_CHAR]\n",
      "UNITS: nT [CDF_CHAR]\n",
      "VALIDMAX: [65534. 65534. 65534.] [CDF_FLOAT]\n",
      "VALIDMIN: [-65534. -65534. -65534.] [CDF_FLOAT]\n",
      "VAR_TYPE: data [CDF_CHAR]\n",
      "\n",
      "\n",
      "CATDESC: Magnetic field vector in RTN cartesian coordinates (1 sec) [CDF_CHAR]\n",
      "DEPEND_0: Epoch1 [CDF_CHAR]\n",
      "DISPLAY_TYPE: time_series [CDF_CHAR]\n",
      "FIELDNAM: Magnetic field vector in RTN cartesian coordinates (1 sec) [CDF_CHAR]\n",
      "FILLVAL: -1e+31 [CDF_FLOAT]\n",
      "FORMAT: E13.6 [CDF_CHAR]\n",
      "LABL_PTR_1: label_brtn [CDF_CHAR]\n",
      "MONOTON: FALSE [CDF_CHAR]\n",
      "SCALEMAX: [9.114388  6.60937   9.3228035] [CDF_FLOAT]\n",
      "SCALEMIN: [-3.2172577 -9.183029  -9.282534 ] [CDF_FLOAT]\n",
      "SCALETYP: LINEAR [CDF_CHAR]\n",
      "TIME_RES: 1 sec [CDF_CHAR]\n",
      "UNITS: nT [CDF_CHAR]\n",
      "VALIDMAX: [65534. 65534. 65534.] [CDF_FLOAT]\n",
      "VALIDMIN: [-65534. -65534. -65534.] [CDF_FLOAT]\n",
      "VAR_TYPE: data [CDF_CHAR]\n",
      "\n",
      "\n",
      "CATDESC: Time, centered, in year, day, & milliseconds (1 sec) [CDF_CHAR]\n",
      "DEPEND_0: Epoch1 [CDF_CHAR]\n",
      "DEPEND_1: unit_time [CDF_CHAR]\n",
      "FIELDNAM: Time Line (1 sec) [CDF_CHAR]\n",
      "FILLVAL: -2147483648 [CDF_INT4]\n",
      "FORM_PTR: format_time [CDF_CHAR]\n",
      "LABL_PTR_1: label_time [CDF_CHAR]\n",
      "MONOTON: INCREASE [CDF_CHAR]\n",
      "SCALEMAX: [2022    2    0] [CDF_INT4]\n",
      "SCALEMIN: [2022    1    0] [CDF_INT4]\n",
      "SCALETYP: LINEAR [CDF_CHAR]\n",
      "TIME_RES: 1 sec [CDF_CHAR]\n",
      "UNIT_PTR: unit_time [CDF_CHAR]\n",
      "VALIDMAX: [ 2049   365 86400] [CDF_INT4]\n",
      "VALIDMIN: [2015    1    0] [CDF_INT4]\n",
      "VAR_TYPE: support_data [CDF_CHAR]\n"
     ]
    }
   ],
   "source": [
    "print(cdf_dscovr['B1F1'].attrs)\n",
    "print(\"\\n\")\n",
    "print(cdf_dscovr['B1GSE'].attrs)\n",
    "print(\"\\n\")\n",
    "print(cdf_dscovr['B1RTN'].attrs)\n",
    "print(\"\\n\")\n",
    "print(cdf_dscovr['Time1_PB5'].attrs)"
   ]
  },
  {
   "cell_type": "code",
   "execution_count": null,
   "metadata": {},
   "outputs": [
    {
     "name": "stdout",
     "output_type": "stream",
     "text": [
      "This is the global metadata record of the file:\n",
      "\n",
      "Data_type: H0>1-sec Definitive Data [CDF_CHAR]\n",
      "Data_version: 1 [CDF_CHAR]\n",
      "Descriptor: MAG>Fluxgate Magnetometer [CDF_CHAR]\n",
      "Discipline: Space Physics>Heliospheric Science [CDF_CHAR]\n",
      "File_naming_convention: source_datatype_descriptor_yyyyMMdd [CDF_CHAR]\n",
      "Instrument_type: Magnetic Fields (space) [CDF_CHAR]\n",
      "Logical_file_id: dscovr_h0_mag_20220101_v01 [CDF_CHAR]\n",
      "Logical_source: dscovr_h0_mag [CDF_CHAR]\n",
      "Logical_source_description: DSCOVR Fluxgate Magnetometer 1-sec Definitive Data [CDF_CHAR]\n",
      "MODS: 12/01/2016 Initial release [CDF_CHAR]\n",
      "Mission_group: DSCOVR [CDF_CHAR]\n",
      "PI_affiliation: UMBC, NASA/GSFC [CDF_CHAR]\n",
      "PI_name: A. Koval [CDF_CHAR]\n",
      "Processing_date: Mon Feb 28 20:19:02 2022 UTC [CDF_CHAR]\n",
      "Project: DSCOVR>Deep Space Climate Observatory [CDF_CHAR]\n",
      "Software_version: V01.00 [CDF_CHAR]\n",
      "Source_name: DSCOVR>Deep Space Climate Observatory [CDF_CHAR]\n",
      "TEXT: DSCOVR Fluxgate Magnetometer 1-sec Definitive Data                               [CDF_CHAR]\n",
      "TEXT_supplement_1:   [CDF_CHAR]\n",
      "TITLE: DSCOVR Fluxgate Magnetometer 1-sec Definitive Data [CDF_CHAR]\n",
      "Web_sites:   [CDF_CHAR]\n"
     ]
    }
   ],
   "source": [
    "print('This is the global metadata record of the file:\\n')\n",
    "print(cdf_dscovr.attrs)"
   ]
  },
  {
   "cell_type": "code",
   "execution_count": null,
   "metadata": {},
   "outputs": [
    {
     "name": "stdout",
     "output_type": "stream",
     "text": [
      "[datetime.datetime(2022, 1, 1, 0, 0, 0, 500000)\n",
      " datetime.datetime(2022, 1, 1, 0, 0, 1, 500000)\n",
      " datetime.datetime(2022, 1, 1, 0, 0, 2, 500000) ...\n",
      " datetime.datetime(2022, 1, 1, 23, 59, 57, 500000)\n",
      " datetime.datetime(2022, 1, 1, 23, 59, 58, 500000)\n",
      " datetime.datetime(2022, 1, 1, 23, 59, 59, 500000)]\n"
     ]
    },
    {
     "data": {
      "image/png": "[encoded data removed]",
      "text/plain": [
       "<Figure size 700x200 with 1 Axes>"
      ]
     },
     "metadata": {},
     "output_type": "display_data"
    }
   ],
   "source": [
    "x = cdf_dscovr['Epoch1'][...]\n",
    "print(x)\n",
    "y = cdf_dscovr['B1GSE'][...]\n",
    "y_df = pd.DataFrame(y)\n",
    "y_df_filtered = y_df[(y_df > -2147483648)] \n",
    "\n",
    "fig, ax = plt.subplots(figsize=(7,2), constrained_layout=True)\n",
    "ax.plot(x, y_df_filtered)\n",
    "ax.set_xlabel('ms')\n",
    "ax.set_ylabel('nT')\n",
    "plt.title('DSCOVR Data')\n",
    "fig.set_facecolor('lightsteelblue')\n"
   ]
  }
 ],
 "metadata": {
  "kernelspec": {
   "display_name": "Python 3 (ipykernel)",
   "language": "python",
   "name": "python3"
  },
  "language_info": {
   "codemirror_mode": {
    "name": "ipython",
    "version": 3
   },
   "file_extension": ".py",
   "mimetype": "text/x-python",
   "name": "python",
   "nbconvert_exporter": "python",
   "pygments_lexer": "ipython3",
   "version": "3.10.4"
  },
  "orig_nbformat": 4,
  "vscode": {
   "interpreter": {
    "hash": "50e373e5ab808193641043646a9facd6c9c72f962e03aef8ca72ec4c7468388d"
   }
  }
 },
 "nbformat": 4,
 "nbformat_minor": 2
}
